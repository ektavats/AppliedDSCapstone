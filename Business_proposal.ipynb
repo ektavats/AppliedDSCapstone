{
 "cells": [
  {
   "cell_type": "markdown",
   "metadata": {},
   "source": [
    "# Exploring Stockholm, Sweden: The battle of neighborhoods!"
   ]
  },
  {
   "cell_type": "markdown",
   "metadata": {},
   "source": [
    "## Applied Data Science Capstone Project By Ekta Vats"
   ]
  },
  {
   "cell_type": "markdown",
   "metadata": {},
   "source": [
    "## Table of contents:\n",
    "* [Introduction: Business Problem](#introduction)\n",
    "* [Data](#data)\n",
    "* [Methodology](#methodology)\n",
    "* [Results and Discussion](#results)\n",
    "* [Conclusion](#conclusion)"
   ]
  },
  {
   "cell_type": "markdown",
   "metadata": {},
   "source": [
    "## Introduction: Business Problem <a name=\"introduction\"></a>"
   ]
  },
  {
   "cell_type": "markdown",
   "metadata": {},
   "source": [
    "Stockholm is the capital and most populous city of Sweden, and the city stretches across 14 islands where Lake Mälaren flows into the Baltic Sea. Stockholm is also the cultural, media, political, and economic centre of Sweden. Stockholm is a vibrant and exciting place, with rich cultural diversity and friendly people all around."
   ]
  },
  {
   "cell_type": "markdown",
   "metadata": {},
   "source": [
    "Want to explore the Stockholm city? Let's do some fun with data science!"
   ]
  },
  {
   "cell_type": "markdown",
   "metadata": {},
   "source": [
    "In this project, we will explore the city of Stockholm, and find out the most popular places (such as museums, parks, café, restaurants, etc.), to help guide the tourists, investors and general public interested in visiting Stockholm. We would also prefer locations that are close to the city centre.\n",
    "\n",
    "We will use the data science skills acquired as part of the IBM Data Science Professional Certification (by Coursera), and generate a few most popular neighbourhoods with information about interesting venues to visit. The details about each venue will then be suggested for the best possible exploration of the Stockholm city."
   ]
  },
  {
   "cell_type": "code",
   "execution_count": null,
   "metadata": {},
   "outputs": [],
   "source": []
  }
 ],
 "metadata": {
  "kernelspec": {
   "display_name": "Python 3",
   "language": "python",
   "name": "python3"
  },
  "language_info": {
   "codemirror_mode": {
    "name": "ipython",
    "version": 3
   },
   "file_extension": ".py",
   "mimetype": "text/x-python",
   "name": "python",
   "nbconvert_exporter": "python",
   "pygments_lexer": "ipython3",
   "version": "3.9.0"
  }
 },
 "nbformat": 4,
 "nbformat_minor": 4
}
