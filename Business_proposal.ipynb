{
 "cells": [
  {
   "cell_type": "markdown",
   "metadata": {},
   "source": [
    "# The Battle of Neighborhoods"
   ]
  },
  {
   "cell_type": "markdown",
   "metadata": {},
   "source": [
    "## Introduction:"
   ]
  },
  {
   "cell_type": "markdown",
   "metadata": {},
   "source": [
    "This project explores the neighborhood around Scarborough in Toronto, Canada, with the aim of helping people in exploring the facilities around the neighborhood. Specifically, helping the people migrating in this area in deciding a suitable neighborhood for them to live in, based on their preferences. The main criteria or services under consideration for comparing different neighborhoods include the housing prices, crime rates, and the proximity to grocery stores and primary schools. Therefore, an interesting battle of neighborhoods will be presented in this project, with the final goal of choosing the best neighborhood according to the services desired. "
   ]
  },
  {
   "cell_type": "code",
   "execution_count": null,
   "metadata": {},
   "outputs": [],
   "source": []
  }
 ],
 "metadata": {
  "kernelspec": {
   "display_name": "Python 3",
   "language": "python",
   "name": "python3"
  },
  "language_info": {
   "codemirror_mode": {
    "name": "ipython",
    "version": 3
   },
   "file_extension": ".py",
   "mimetype": "text/x-python",
   "name": "python",
   "nbconvert_exporter": "python",
   "pygments_lexer": "ipython3",
   "version": "3.9.0"
  }
 },
 "nbformat": 4,
 "nbformat_minor": 4
}
