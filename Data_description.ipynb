{
 "cells": [
  {
   "cell_type": "markdown",
   "metadata": {},
   "source": [
    "# Exploring Stockholm, Sweden: The battle of neighborhoods!"
   ]
  },
  {
   "cell_type": "markdown",
   "metadata": {},
   "source": [
    "## Data <a name=\"data\"></a>"
   ]
  },
  {
   "cell_type": "markdown",
   "metadata": {},
   "source": [
    "Based on the problem definition, following factors will contribute in deciding which neighborhood is popular:\n",
    "* number of museums and attractions in the neighborhood.\n",
    "* number of café and restaurants in the neighborhood.\n",
    "* whether the neighborhood is close to the city center.\n",
    "* population density.\n",
    "\n",
    "We will focus around the Stockholm city centre to define our neighborhoods.\n",
    "\n",
    "Following data sources will be needed to extract the required information:\n",
    "\n",
    "* **Wikipedia**, https://en.wikipedia.org/wiki/Stockholm_City_Centre, to obtain the information related to the districts/boroughs in the Stockholm city centre.\n",
    "\n",
    "* **Foursquare API** to obtain the location/venue data (i.e. number of museums, attractions, café, restaurants, etc.)\n",
    "* **BeautifulSoup** to parse the area information from a HTML table.\n",
    "* **Geocoder** to obtain the coordinates of the Stockholm city center.\n",
    "* **Folium** to visualize the maps."
   ]
  },
  {
   "cell_type": "code",
   "execution_count": null,
   "metadata": {},
   "outputs": [],
   "source": []
  }
 ],
 "metadata": {
  "kernelspec": {
   "display_name": "Python 3",
   "language": "python",
   "name": "python3"
  },
  "language_info": {
   "codemirror_mode": {
    "name": "ipython",
    "version": 3
   },
   "file_extension": ".py",
   "mimetype": "text/x-python",
   "name": "python",
   "nbconvert_exporter": "python",
   "pygments_lexer": "ipython3",
   "version": "3.9.0"
  }
 },
 "nbformat": 4,
 "nbformat_minor": 4
}
